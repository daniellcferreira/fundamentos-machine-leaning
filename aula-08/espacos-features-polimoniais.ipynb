{
 "cells": [
  {
   "cell_type": "code",
   "execution_count": 5,
   "metadata": {},
   "outputs": [],
   "source": [
    "from ml_utils import *"
   ]
  },
  {
   "cell_type": "code",
   "execution_count": 6,
   "metadata": {},
   "outputs": [],
   "source": [
    "# Espaços de features polinomiais\n",
    "\n",
    "def gera_dados(N = 100):\n",
    "\n",
    "    np.random.seed(42)\n",
    "\n",
    "    X = np.random.uniform(-1.5, 1.5, N)\n",
    "\n",
    "    b0, b1, b2, b3, b4 = 0, -0.2, 0.2, 0.6\n",
    "\n",
    "    y = b0 + b1*X + b2*(X**2) + b3*(X**3) + b4*(X**4) + np.random.normal(0, 0.25, N)\n",
    "\n",
    "    X = X.reshape(-1, 1)\n",
    "\n",
    "    return X, y"
   ]
  }
 ],
 "metadata": {
  "kernelspec": {
   "display_name": "Python 3",
   "language": "python",
   "name": "python3"
  },
  "language_info": {
   "codemirror_mode": {
    "name": "ipython",
    "version": 3
   },
   "file_extension": ".py",
   "mimetype": "text/x-python",
   "name": "python",
   "nbconvert_exporter": "python",
   "pygments_lexer": "ipython3",
   "version": "3.12.2"
  }
 },
 "nbformat": 4,
 "nbformat_minor": 2
}
