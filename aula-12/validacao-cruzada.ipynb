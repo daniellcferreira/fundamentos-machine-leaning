{
 "cells": [
  {
   "cell_type": "code",
   "execution_count": 1,
   "metadata": {},
   "outputs": [],
   "source": [
    "from ml_util import *"
   ]
  },
  {
   "cell_type": "code",
   "execution_count": 2,
   "metadata": {},
   "outputs": [],
   "source": [
    "from sklearn.linear_model import Lasso\n",
    "from sklearn.preprocessing import MinMaxScaler"
   ]
  },
  {
   "cell_type": "code",
   "execution_count": 3,
   "metadata": {},
   "outputs": [
    {
     "name": "stdout",
     "output_type": "stream",
     "text": [
      "\n",
      "Metricas de avaliação (dados de treino):\n",
      "\n",
      "R^2: 0.93\n",
      "MAE: 14802.68\n",
      "RMSE: 21121.71\n",
      "MAPE: 8.74%\n",
      "------------------------------------\n",
      "\n",
      "Metricas de avaliação (dados de teste):\n",
      "\n",
      "R^2: 0.91\n",
      "MAE: 17768.14\n",
      "RMSE: 26937.40\n",
      "MAPE: 10.61%\n"
     ]
    }
   ],
   "source": [
    "df = pd.read_csv(\"house_prices.csv\")\n",
    "\n",
    "X = df.drop(columns=\"SalePrice\")\n",
    "y = df[\"SalePrice\"]\n",
    "\n",
    "X_train, X_test, y_train, y_test = train_test_split(X, y, test_size=0.2, random_state=42)\n",
    "    \n",
    "index_drop = X_train.query(\"GrLivArea > 4500\").index\n",
    "\n",
    "X_train = X_train.drop(index=index_drop)\n",
    "y_train = y_train.drop(index=index_drop)\n",
    "\n",
    "X_train_num = X_train.select_dtypes(include=np.number).drop(columns=\"Id\")\n",
    "X_train_num_full = X_train_num.dropna(axis=1)\n",
    "\n",
    "X_test_num_full = X_test[X_train_num_full.columns]\n",
    "\n",
    "lasso_pipe = Pipeline([\n",
    "    (\"pf\", PolynomialFeatures(degree=2, include_bias=False)),\n",
    "    (\"mms\", MinMaxScaler()),\n",
    "    (\"lasso\", Lasso(alpha=50, max_iter=2000))\n",
    "]).fit(X_train_num_full, y_train)\n",
    "\n",
    "_ = reg_metrics_train_test(lasso_pipe, X_train_num_full, y_train, X_test_num_full, y_test)\n"
   ]
  },
  {
   "cell_type": "code",
   "execution_count": 4,
   "metadata": {},
   "outputs": [],
   "source": [
    "from sklearn.model_selection import KFold"
   ]
  },
  {
   "cell_type": "code",
   "execution_count": 5,
   "metadata": {},
   "outputs": [],
   "source": [
    "kf = KFold(n_splits=5, shuffle=True, random_state=42)"
   ]
  },
  {
   "cell_type": "code",
   "execution_count": 6,
   "metadata": {},
   "outputs": [],
   "source": [
    "idcs_train, idcs_val = list(kf.split(X_train_num_full))[0]"
   ]
  },
  {
   "cell_type": "code",
   "execution_count": 7,
   "metadata": {},
   "outputs": [],
   "source": [
    "from sklearn.model_selection import cross_validate"
   ]
  },
  {
   "cell_type": "code",
   "execution_count": 8,
   "metadata": {},
   "outputs": [],
   "source": [
    "kf = KFold(n_splits=10, shuffle=True, random_state=42)\n",
    "\n",
    "lasso_pipe = Pipeline([\n",
    "    (\"pf\", PolynomialFeatures(degree=2, include_bias=False)),\n",
    "    (\"mms\", MinMaxScaler()),\n",
    "    (\"lasso\", Lasso(alpha=50, max_iter=2000))\n",
    "])\n",
    "\n",
    "result_cv = cross_validate(lasso_pipe, X_train_num_full, y_train, cv=kf, n_jobs=-1, return_train_score=True, scoring=\"neg_mean_absolute_error\")\n"
   ]
  },
  {
   "cell_type": "code",
   "execution_count": 9,
   "metadata": {},
   "outputs": [
    {
     "data": {
      "text/html": [
       "<div>\n",
       "<style scoped>\n",
       "    .dataframe tbody tr th:only-of-type {\n",
       "        vertical-align: middle;\n",
       "    }\n",
       "\n",
       "    .dataframe tbody tr th {\n",
       "        vertical-align: top;\n",
       "    }\n",
       "\n",
       "    .dataframe thead th {\n",
       "        text-align: right;\n",
       "    }\n",
       "</style>\n",
       "<table border=\"1\" class=\"dataframe\">\n",
       "  <thead>\n",
       "    <tr style=\"text-align: right;\">\n",
       "      <th></th>\n",
       "      <th>fit_time</th>\n",
       "      <th>score_time</th>\n",
       "      <th>test_score</th>\n",
       "      <th>train_score</th>\n",
       "    </tr>\n",
       "  </thead>\n",
       "  <tbody>\n",
       "    <tr>\n",
       "      <th>0</th>\n",
       "      <td>6.456759</td>\n",
       "      <td>0.015132</td>\n",
       "      <td>18795.750016</td>\n",
       "      <td>14530.614940</td>\n",
       "    </tr>\n",
       "    <tr>\n",
       "      <th>1</th>\n",
       "      <td>3.869794</td>\n",
       "      <td>0.028501</td>\n",
       "      <td>15965.555977</td>\n",
       "      <td>14608.206905</td>\n",
       "    </tr>\n",
       "    <tr>\n",
       "      <th>2</th>\n",
       "      <td>6.322771</td>\n",
       "      <td>0.025678</td>\n",
       "      <td>16607.321261</td>\n",
       "      <td>14603.621081</td>\n",
       "    </tr>\n",
       "    <tr>\n",
       "      <th>3</th>\n",
       "      <td>3.780216</td>\n",
       "      <td>0.035998</td>\n",
       "      <td>16015.145534</td>\n",
       "      <td>14830.744169</td>\n",
       "    </tr>\n",
       "    <tr>\n",
       "      <th>4</th>\n",
       "      <td>6.331311</td>\n",
       "      <td>0.046761</td>\n",
       "      <td>15666.914764</td>\n",
       "      <td>14668.677423</td>\n",
       "    </tr>\n",
       "    <tr>\n",
       "      <th>5</th>\n",
       "      <td>2.982693</td>\n",
       "      <td>0.012864</td>\n",
       "      <td>15188.159049</td>\n",
       "      <td>14967.141625</td>\n",
       "    </tr>\n",
       "    <tr>\n",
       "      <th>6</th>\n",
       "      <td>3.697891</td>\n",
       "      <td>0.007990</td>\n",
       "      <td>18674.906364</td>\n",
       "      <td>14509.634894</td>\n",
       "    </tr>\n",
       "    <tr>\n",
       "      <th>7</th>\n",
       "      <td>3.882262</td>\n",
       "      <td>0.017654</td>\n",
       "      <td>16036.501778</td>\n",
       "      <td>14686.538213</td>\n",
       "    </tr>\n",
       "    <tr>\n",
       "      <th>8</th>\n",
       "      <td>3.789312</td>\n",
       "      <td>0.011298</td>\n",
       "      <td>14604.100127</td>\n",
       "      <td>14897.769226</td>\n",
       "    </tr>\n",
       "    <tr>\n",
       "      <th>9</th>\n",
       "      <td>2.284235</td>\n",
       "      <td>0.010439</td>\n",
       "      <td>15809.645468</td>\n",
       "      <td>14671.537688</td>\n",
       "    </tr>\n",
       "  </tbody>\n",
       "</table>\n",
       "</div>"
      ],
      "text/plain": [
       "   fit_time  score_time    test_score   train_score\n",
       "0  6.456759    0.015132  18795.750016  14530.614940\n",
       "1  3.869794    0.028501  15965.555977  14608.206905\n",
       "2  6.322771    0.025678  16607.321261  14603.621081\n",
       "3  3.780216    0.035998  16015.145534  14830.744169\n",
       "4  6.331311    0.046761  15666.914764  14668.677423\n",
       "5  2.982693    0.012864  15188.159049  14967.141625\n",
       "6  3.697891    0.007990  18674.906364  14509.634894\n",
       "7  3.882262    0.017654  16036.501778  14686.538213\n",
       "8  3.789312    0.011298  14604.100127  14897.769226\n",
       "9  2.284235    0.010439  15809.645468  14671.537688"
      ]
     },
     "execution_count": 9,
     "metadata": {},
     "output_type": "execute_result"
    }
   ],
   "source": [
    "df_results_cv = pd.DataFrame(result_cv).abs()\n",
    "\n",
    "df_results_cv"
   ]
  },
  {
   "cell_type": "code",
   "execution_count": 10,
   "metadata": {},
   "outputs": [
    {
     "data": {
      "text/html": [
       "<div>\n",
       "<style scoped>\n",
       "    .dataframe tbody tr th:only-of-type {\n",
       "        vertical-align: middle;\n",
       "    }\n",
       "\n",
       "    .dataframe tbody tr th {\n",
       "        vertical-align: top;\n",
       "    }\n",
       "\n",
       "    .dataframe thead th {\n",
       "        text-align: right;\n",
       "    }\n",
       "</style>\n",
       "<table border=\"1\" class=\"dataframe\">\n",
       "  <thead>\n",
       "    <tr style=\"text-align: right;\">\n",
       "      <th></th>\n",
       "      <th>test_score</th>\n",
       "      <th>train_score</th>\n",
       "    </tr>\n",
       "  </thead>\n",
       "  <tbody>\n",
       "    <tr>\n",
       "      <th>count</th>\n",
       "      <td>10.000000</td>\n",
       "      <td>10.000000</td>\n",
       "    </tr>\n",
       "    <tr>\n",
       "      <th>mean</th>\n",
       "      <td>16336.400034</td>\n",
       "      <td>14697.448616</td>\n",
       "    </tr>\n",
       "    <tr>\n",
       "      <th>std</th>\n",
       "      <td>1372.996822</td>\n",
       "      <td>153.522971</td>\n",
       "    </tr>\n",
       "    <tr>\n",
       "      <th>min</th>\n",
       "      <td>14604.100127</td>\n",
       "      <td>14509.634894</td>\n",
       "    </tr>\n",
       "    <tr>\n",
       "      <th>25%</th>\n",
       "      <td>15702.597440</td>\n",
       "      <td>14604.767537</td>\n",
       "    </tr>\n",
       "    <tr>\n",
       "      <th>50%</th>\n",
       "      <td>15990.350756</td>\n",
       "      <td>14670.107556</td>\n",
       "    </tr>\n",
       "    <tr>\n",
       "      <th>75%</th>\n",
       "      <td>16464.616390</td>\n",
       "      <td>14794.692680</td>\n",
       "    </tr>\n",
       "    <tr>\n",
       "      <th>max</th>\n",
       "      <td>18795.750016</td>\n",
       "      <td>14967.141625</td>\n",
       "    </tr>\n",
       "  </tbody>\n",
       "</table>\n",
       "</div>"
      ],
      "text/plain": [
       "         test_score   train_score\n",
       "count     10.000000     10.000000\n",
       "mean   16336.400034  14697.448616\n",
       "std     1372.996822    153.522971\n",
       "min    14604.100127  14509.634894\n",
       "25%    15702.597440  14604.767537\n",
       "50%    15990.350756  14670.107556\n",
       "75%    16464.616390  14794.692680\n",
       "max    18795.750016  14967.141625"
      ]
     },
     "execution_count": 10,
     "metadata": {},
     "output_type": "execute_result"
    }
   ],
   "source": [
    "df_results_cv[[\"test_score\", \"train_score\"]].describe()"
   ]
  },
  {
   "cell_type": "code",
   "execution_count": 11,
   "metadata": {},
   "outputs": [
    {
     "data": {
      "text/plain": [
       "<Axes: xlabel='test_score', ylabel='Count'>"
      ]
     },
     "execution_count": 11,
     "metadata": {},
     "output_type": "execute_result"
    },
    {
     "data": {
      "image/png": "[encoded data removed]",
      "text/plain": [
       "<Figure size 640x480 with 1 Axes>"
      ]
     },
     "metadata": {},
     "output_type": "display_data"
    }
   ],
   "source": [
    "sns.histplot(data=df_results_cv, x=\"test_score\", kde=True)"
   ]
  },
  {
   "cell_type": "code",
   "execution_count": 12,
   "metadata": {},
   "outputs": [
    {
     "data": {
      "text/plain": [
       "<Axes: xlabel='train_score', ylabel='Count'>"
      ]
     },
     "execution_count": 12,
     "metadata": {},
     "output_type": "execute_result"
    },
    {
     "data": {
      "image/png": "[encoded data removed]",
      "text/plain": [
       "<Figure size 640x480 with 1 Axes>"
      ]
     },
     "metadata": {},
     "output_type": "display_data"
    }
   ],
   "source": [
    "sns.histplot(data=df_results_cv, x=\"train_score\", kde=True)"
   ]
  },
  {
   "cell_type": "code",
   "execution_count": 13,
   "metadata": {},
   "outputs": [],
   "source": [
    "def vizualizar_cv(estimator, X, y, scoring, n_splits):\n",
    "\n",
    "    kf = KFold(n_splits=n_splits, shuffle=True, random_state=42)\n",
    "\n",
    "    result_cv = cross_validate(estimator, X, y, cv=kf, n_jobs=-1, return_train_score=True, scoring=scoring)\n",
    "\n",
    "    df_results_cv = pd.DataFrame(result_cv).abs()\n",
    "\n",
    "    display(df_results_cv[[\"test_score\", \"train_score\"]].describe())\n",
    "\n",
    "    plt.title(\"Distribuição amostral de metricas de validação cruzada\")\n",
    "    sns.histplot(data=df_results_cv, x=\"test_score\", kde=True, color=\"orange\", label=\"test\")\n",
    "    sns.histplot(data=df_results_cv, x=\"train_score\", kde=True, label=\"train\")\n",
    "    plt.legend()\n",
    "    plt.show()"
   ]
  },
  {
   "cell_type": "code",
   "execution_count": 14,
   "metadata": {},
   "outputs": [
    {
     "data": {
      "text/html": [
       "<div>\n",
       "<style scoped>\n",
       "    .dataframe tbody tr th:only-of-type {\n",
       "        vertical-align: middle;\n",
       "    }\n",
       "\n",
       "    .dataframe tbody tr th {\n",
       "        vertical-align: top;\n",
       "    }\n",
       "\n",
       "    .dataframe thead th {\n",
       "        text-align: right;\n",
       "    }\n",
       "</style>\n",
       "<table border=\"1\" class=\"dataframe\">\n",
       "  <thead>\n",
       "    <tr style=\"text-align: right;\">\n",
       "      <th></th>\n",
       "      <th>test_score</th>\n",
       "      <th>train_score</th>\n",
       "    </tr>\n",
       "  </thead>\n",
       "  <tbody>\n",
       "    <tr>\n",
       "      <th>count</th>\n",
       "      <td>10.000000</td>\n",
       "      <td>10.000000</td>\n",
       "    </tr>\n",
       "    <tr>\n",
       "      <th>mean</th>\n",
       "      <td>16336.400034</td>\n",
       "      <td>14697.448616</td>\n",
       "    </tr>\n",
       "    <tr>\n",
       "      <th>std</th>\n",
       "      <td>1372.996822</td>\n",
       "      <td>153.522971</td>\n",
       "    </tr>\n",
       "    <tr>\n",
       "      <th>min</th>\n",
       "      <td>14604.100127</td>\n",
       "      <td>14509.634894</td>\n",
       "    </tr>\n",
       "    <tr>\n",
       "      <th>25%</th>\n",
       "      <td>15702.597440</td>\n",
       "      <td>14604.767537</td>\n",
       "    </tr>\n",
       "    <tr>\n",
       "      <th>50%</th>\n",
       "      <td>15990.350756</td>\n",
       "      <td>14670.107556</td>\n",
       "    </tr>\n",
       "    <tr>\n",
       "      <th>75%</th>\n",
       "      <td>16464.616390</td>\n",
       "      <td>14794.692680</td>\n",
       "    </tr>\n",
       "    <tr>\n",
       "      <th>max</th>\n",
       "      <td>18795.750016</td>\n",
       "      <td>14967.141625</td>\n",
       "    </tr>\n",
       "  </tbody>\n",
       "</table>\n",
       "</div>"
      ],
      "text/plain": [
       "         test_score   train_score\n",
       "count     10.000000     10.000000\n",
       "mean   16336.400034  14697.448616\n",
       "std     1372.996822    153.522971\n",
       "min    14604.100127  14509.634894\n",
       "25%    15702.597440  14604.767537\n",
       "50%    15990.350756  14670.107556\n",
       "75%    16464.616390  14794.692680\n",
       "max    18795.750016  14967.141625"
      ]
     },
     "metadata": {},
     "output_type": "display_data"
    },
    {
     "data": {
      "image/png": "[encoded data removed]",
      "text/plain": [
       "<Figure size 640x480 with 1 Axes>"
      ]
     },
     "metadata": {},
     "output_type": "display_data"
    }
   ],
   "source": [
    "vizualizar_cv(lasso_pipe, X_train_num_full, y_train, \"neg_mean_absolute_error\", 10)"
   ]
  },
  {
   "cell_type": "code",
   "execution_count": 15,
   "metadata": {},
   "outputs": [
    {
     "data": {
      "text/html": [
       "<div>\n",
       "<style scoped>\n",
       "    .dataframe tbody tr th:only-of-type {\n",
       "        vertical-align: middle;\n",
       "    }\n",
       "\n",
       "    .dataframe tbody tr th {\n",
       "        vertical-align: top;\n",
       "    }\n",
       "\n",
       "    .dataframe thead th {\n",
       "        text-align: right;\n",
       "    }\n",
       "</style>\n",
       "<table border=\"1\" class=\"dataframe\">\n",
       "  <thead>\n",
       "    <tr style=\"text-align: right;\">\n",
       "      <th></th>\n",
       "      <th>test_score</th>\n",
       "      <th>train_score</th>\n",
       "    </tr>\n",
       "  </thead>\n",
       "  <tbody>\n",
       "    <tr>\n",
       "      <th>count</th>\n",
       "      <td>30.000000</td>\n",
       "      <td>30.000000</td>\n",
       "    </tr>\n",
       "    <tr>\n",
       "      <th>mean</th>\n",
       "      <td>16370.254482</td>\n",
       "      <td>14767.568058</td>\n",
       "    </tr>\n",
       "    <tr>\n",
       "      <th>std</th>\n",
       "      <td>2686.816692</td>\n",
       "      <td>86.714413</td>\n",
       "    </tr>\n",
       "    <tr>\n",
       "      <th>min</th>\n",
       "      <td>10188.125138</td>\n",
       "      <td>14583.247122</td>\n",
       "    </tr>\n",
       "    <tr>\n",
       "      <th>25%</th>\n",
       "      <td>14583.775965</td>\n",
       "      <td>14722.980134</td>\n",
       "    </tr>\n",
       "    <tr>\n",
       "      <th>50%</th>\n",
       "      <td>16550.950157</td>\n",
       "      <td>14783.433766</td>\n",
       "    </tr>\n",
       "    <tr>\n",
       "      <th>75%</th>\n",
       "      <td>17869.641140</td>\n",
       "      <td>14822.241180</td>\n",
       "    </tr>\n",
       "    <tr>\n",
       "      <th>max</th>\n",
       "      <td>21742.613884</td>\n",
       "      <td>14946.690003</td>\n",
       "    </tr>\n",
       "  </tbody>\n",
       "</table>\n",
       "</div>"
      ],
      "text/plain": [
       "         test_score   train_score\n",
       "count     30.000000     30.000000\n",
       "mean   16370.254482  14767.568058\n",
       "std     2686.816692     86.714413\n",
       "min    10188.125138  14583.247122\n",
       "25%    14583.775965  14722.980134\n",
       "50%    16550.950157  14783.433766\n",
       "75%    17869.641140  14822.241180\n",
       "max    21742.613884  14946.690003"
      ]
     },
     "metadata": {},
     "output_type": "display_data"
    },
    {
     "data": {
      "image/png": "[encoded data removed]",
      "text/plain": [
       "<Figure size 640x480 with 1 Axes>"
      ]
     },
     "metadata": {},
     "output_type": "display_data"
    }
   ],
   "source": [
    "vizualizar_cv(lasso_pipe, X_train_num_full, y_train, \"neg_mean_absolute_error\", 30)"
   ]
  },
  {
   "cell_type": "code",
   "execution_count": 16,
   "metadata": {},
   "outputs": [
    {
     "data": {
      "text/html": [
       "<div>\n",
       "<style scoped>\n",
       "    .dataframe tbody tr th:only-of-type {\n",
       "        vertical-align: middle;\n",
       "    }\n",
       "\n",
       "    .dataframe tbody tr th {\n",
       "        vertical-align: top;\n",
       "    }\n",
       "\n",
       "    .dataframe thead th {\n",
       "        text-align: right;\n",
       "    }\n",
       "</style>\n",
       "<table border=\"1\" class=\"dataframe\">\n",
       "  <thead>\n",
       "    <tr style=\"text-align: right;\">\n",
       "      <th></th>\n",
       "      <th>fit_time</th>\n",
       "      <th>score_time</th>\n",
       "      <th>test_MAE</th>\n",
       "      <th>train_MAE</th>\n",
       "      <th>test_RMSE</th>\n",
       "      <th>train_RMSE</th>\n",
       "      <th>test_MAPE</th>\n",
       "      <th>train_MAPE</th>\n",
       "      <th>test_R^2</th>\n",
       "      <th>train_R^2</th>\n",
       "    </tr>\n",
       "  </thead>\n",
       "  <tbody>\n",
       "    <tr>\n",
       "      <th>0</th>\n",
       "      <td>10.916322</td>\n",
       "      <td>0.048325</td>\n",
       "      <td>18795.750016</td>\n",
       "      <td>14530.614940</td>\n",
       "      <td>26086.544434</td>\n",
       "      <td>20688.050507</td>\n",
       "      <td>0.105910</td>\n",
       "      <td>0.086278</td>\n",
       "      <td>0.908343</td>\n",
       "      <td>0.926293</td>\n",
       "    </tr>\n",
       "    <tr>\n",
       "      <th>1</th>\n",
       "      <td>6.547675</td>\n",
       "      <td>0.067289</td>\n",
       "      <td>15965.555977</td>\n",
       "      <td>14608.206905</td>\n",
       "      <td>26957.891628</td>\n",
       "      <td>20538.232805</td>\n",
       "      <td>0.090541</td>\n",
       "      <td>0.086557</td>\n",
       "      <td>0.862224</td>\n",
       "      <td>0.930178</td>\n",
       "    </tr>\n",
       "    <tr>\n",
       "      <th>2</th>\n",
       "      <td>10.835118</td>\n",
       "      <td>0.039686</td>\n",
       "      <td>16607.321261</td>\n",
       "      <td>14603.621081</td>\n",
       "      <td>24733.773416</td>\n",
       "      <td>20751.842523</td>\n",
       "      <td>0.105783</td>\n",
       "      <td>0.085869</td>\n",
       "      <td>0.903627</td>\n",
       "      <td>0.927413</td>\n",
       "    </tr>\n",
       "    <tr>\n",
       "      <th>3</th>\n",
       "      <td>5.785599</td>\n",
       "      <td>0.084474</td>\n",
       "      <td>16015.145534</td>\n",
       "      <td>14830.744169</td>\n",
       "      <td>23603.680930</td>\n",
       "      <td>21260.268201</td>\n",
       "      <td>0.094065</td>\n",
       "      <td>0.087366</td>\n",
       "      <td>0.892998</td>\n",
       "      <td>0.925413</td>\n",
       "    </tr>\n",
       "    <tr>\n",
       "      <th>4</th>\n",
       "      <td>9.637934</td>\n",
       "      <td>0.052577</td>\n",
       "      <td>15666.914764</td>\n",
       "      <td>14668.677423</td>\n",
       "      <td>21996.606692</td>\n",
       "      <td>21015.910953</td>\n",
       "      <td>0.085393</td>\n",
       "      <td>0.087080</td>\n",
       "      <td>0.908586</td>\n",
       "      <td>0.926837</td>\n",
       "    </tr>\n",
       "    <tr>\n",
       "      <th>5</th>\n",
       "      <td>5.107656</td>\n",
       "      <td>0.056410</td>\n",
       "      <td>15188.159049</td>\n",
       "      <td>14967.141625</td>\n",
       "      <td>23431.805099</td>\n",
       "      <td>21139.292250</td>\n",
       "      <td>0.090926</td>\n",
       "      <td>0.088108</td>\n",
       "      <td>0.908423</td>\n",
       "      <td>0.924964</td>\n",
       "    </tr>\n",
       "    <tr>\n",
       "      <th>6</th>\n",
       "      <td>5.459251</td>\n",
       "      <td>0.058988</td>\n",
       "      <td>18674.906364</td>\n",
       "      <td>14509.634894</td>\n",
       "      <td>26153.314073</td>\n",
       "      <td>20768.902811</td>\n",
       "      <td>0.110031</td>\n",
       "      <td>0.085360</td>\n",
       "      <td>0.906430</td>\n",
       "      <td>0.925968</td>\n",
       "    </tr>\n",
       "    <tr>\n",
       "      <th>7</th>\n",
       "      <td>5.837286</td>\n",
       "      <td>0.056764</td>\n",
       "      <td>16036.501778</td>\n",
       "      <td>14686.538213</td>\n",
       "      <td>21473.062185</td>\n",
       "      <td>21109.634565</td>\n",
       "      <td>0.095677</td>\n",
       "      <td>0.086528</td>\n",
       "      <td>0.910335</td>\n",
       "      <td>0.926532</td>\n",
       "    </tr>\n",
       "    <tr>\n",
       "      <th>8</th>\n",
       "      <td>4.481058</td>\n",
       "      <td>0.034016</td>\n",
       "      <td>14604.100127</td>\n",
       "      <td>14897.769226</td>\n",
       "      <td>20273.548633</td>\n",
       "      <td>21218.954688</td>\n",
       "      <td>0.086776</td>\n",
       "      <td>0.087936</td>\n",
       "      <td>0.920553</td>\n",
       "      <td>0.925707</td>\n",
       "    </tr>\n",
       "    <tr>\n",
       "      <th>9</th>\n",
       "      <td>4.237802</td>\n",
       "      <td>0.020691</td>\n",
       "      <td>15809.645468</td>\n",
       "      <td>14671.537688</td>\n",
       "      <td>24743.865170</td>\n",
       "      <td>20719.051908</td>\n",
       "      <td>0.088139</td>\n",
       "      <td>0.087188</td>\n",
       "      <td>0.899292</td>\n",
       "      <td>0.927880</td>\n",
       "    </tr>\n",
       "  </tbody>\n",
       "</table>\n",
       "</div>"
      ],
      "text/plain": [
       "    fit_time  score_time      test_MAE     train_MAE     test_RMSE  \\\n",
       "0  10.916322    0.048325  18795.750016  14530.614940  26086.544434   \n",
       "1   6.547675    0.067289  15965.555977  14608.206905  26957.891628   \n",
       "2  10.835118    0.039686  16607.321261  14603.621081  24733.773416   \n",
       "3   5.785599    0.084474  16015.145534  14830.744169  23603.680930   \n",
       "4   9.637934    0.052577  15666.914764  14668.677423  21996.606692   \n",
       "5   5.107656    0.056410  15188.159049  14967.141625  23431.805099   \n",
       "6   5.459251    0.058988  18674.906364  14509.634894  26153.314073   \n",
       "7   5.837286    0.056764  16036.501778  14686.538213  21473.062185   \n",
       "8   4.481058    0.034016  14604.100127  14897.769226  20273.548633   \n",
       "9   4.237802    0.020691  15809.645468  14671.537688  24743.865170   \n",
       "\n",
       "     train_RMSE  test_MAPE  train_MAPE  test_R^2  train_R^2  \n",
       "0  20688.050507   0.105910    0.086278  0.908343   0.926293  \n",
       "1  20538.232805   0.090541    0.086557  0.862224   0.930178  \n",
       "2  20751.842523   0.105783    0.085869  0.903627   0.927413  \n",
       "3  21260.268201   0.094065    0.087366  0.892998   0.925413  \n",
       "4  21015.910953   0.085393    0.087080  0.908586   0.926837  \n",
       "5  21139.292250   0.090926    0.088108  0.908423   0.924964  \n",
       "6  20768.902811   0.110031    0.085360  0.906430   0.925968  \n",
       "7  21109.634565   0.095677    0.086528  0.910335   0.926532  \n",
       "8  21218.954688   0.086776    0.087936  0.920553   0.925707  \n",
       "9  20719.051908   0.088139    0.087188  0.899292   0.927880  "
      ]
     },
     "execution_count": 16,
     "metadata": {},
     "output_type": "execute_result"
    }
   ],
   "source": [
    "kf = KFold(n_splits=10, shuffle=True, random_state=42)\n",
    "\n",
    "lasso_pipe = Pipeline([\n",
    "    (\"pf\", PolynomialFeatures(degree=2, include_bias=False)),\n",
    "    (\"mms\", MinMaxScaler()),\n",
    "    (\"lasso\", Lasso(alpha=50, max_iter=2000))\n",
    "])\n",
    "\n",
    "result_cv = cross_validate(\n",
    "    lasso_pipe, X_train_num_full, y_train, \n",
    "    cv=kf, n_jobs=-1, return_train_score=True, \n",
    "    scoring={\"MAE\": \"neg_mean_absolute_error\", \n",
    "            \"RMSE\": \"neg_root_mean_squared_error\", \n",
    "            \"MAPE\": \"neg_mean_absolute_percentage_error\",\n",
    "            \"R^2\": \"r2\"})\n",
    "\n",
    "df_results_cv = pd.DataFrame(result_cv).abs()\n",
    "\n",
    "df_results_cv"
   ]
  },
  {
   "cell_type": "code",
   "execution_count": 17,
   "metadata": {},
   "outputs": [],
   "source": [
    "from sklearn.linear_model import LassoCV"
   ]
  },
  {
   "cell_type": "code",
   "execution_count": 23,
   "metadata": {},
   "outputs": [
    {
     "name": "stderr",
     "output_type": "stream",
     "text": [
      "c:\\Users\\Daniel\\AppData\\Local\\Programs\\Python\\Python312\\Lib\\site-packages\\sklearn\\linear_model\\_coordinate_descent.py:664: ConvergenceWarning: Objective did not converge. You might want to increase the number of iterations. Duality gap: 658606165.7658691, tolerance: 636342303.5991907\n",
      "  model = cd_fast.enet_coordinate_descent_gram(\n"
     ]
    }
   ],
   "source": [
    "kf = KFold(n_splits=30, shuffle=True, random_state=42)\n",
    "\n",
    "lasso_pipe = Pipeline([\n",
    "    (\"pf\", PolynomialFeatures(degree=2, include_bias=False)),\n",
    "    (\"mms\", MinMaxScaler()),\n",
    "    (\"lasso\", LassoCV(alphas=np.linspace(20, 30, 100), cv=kf, max_iter=3000, n_jobs=-1))\n",
    "]).fit(X_train_num_full, y_train)"
   ]
  },
  {
   "cell_type": "code",
   "execution_count": 24,
   "metadata": {},
   "outputs": [
    {
     "data": {
      "text/plain": [
       "24.693877551020407"
      ]
     },
     "execution_count": 24,
     "metadata": {},
     "output_type": "execute_result"
    }
   ],
   "source": [
    "lasso_pipe[-1].alpha_"
   ]
  }
 ],
 "metadata": {
  "kernelspec": {
   "display_name": "Python 3",
   "language": "python",
   "name": "python3"
  },
  "language_info": {
   "codemirror_mode": {
    "name": "ipython",
    "version": 3
   },
   "file_extension": ".py",
   "mimetype": "text/x-python",
   "name": "python",
   "nbconvert_exporter": "python",
   "pygments_lexer": "ipython3",
   "version": "3.12.2"
  }
 },
 "nbformat": 4,
 "nbformat_minor": 2
}
